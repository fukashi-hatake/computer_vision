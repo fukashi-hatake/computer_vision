{
  "nbformat": 4,
  "nbformat_minor": 0,
  "metadata": {
    "colab": {
      "provenance": []
    },
    "kernelspec": {
      "name": "python3",
      "display_name": "Python 3"
    },
    "language_info": {
      "name": "python"
    }
  },
  "cells": [
    {
      "cell_type": "code",
      "execution_count": 1,
      "metadata": {
        "id": "U3PZFfgUcwSg"
      },
      "outputs": [],
      "source": [
        "import torch"
      ]
    },
    {
      "cell_type": "code",
      "source": [
        "t_c = [0.5, 14.0, 15.0, 28.0, 11.0, 8.0, 3.0, -4.0, 6.0, 13.0, 21.0]\n",
        "t_u = [35.7, 55.9, 58.2, 81.9, 56.3, 48.9, 33.9, 21.8, 48.4, 60.4, 68.4]\n",
        "\n",
        "t_c = torch.tensor(t_c)\n",
        "t_u = torch.tensor(t_u)"
      ],
      "metadata": {
        "id": "ue25rVo1c06U"
      },
      "execution_count": 2,
      "outputs": []
    },
    {
      "cell_type": "code",
      "source": [
        "def model(t_u, w, b):\n",
        "  return w * t_u + b\n",
        "\n",
        "def loss_fn(t_p, t_c):\n",
        "  squared_diffs = (t_p - t_c)**2\n",
        "  return squared_diffs.mean()"
      ],
      "metadata": {
        "id": "oKDk0kdLdFoS"
      },
      "execution_count": 3,
      "outputs": []
    },
    {
      "cell_type": "code",
      "source": [
        "w = torch.ones(())\n",
        "b = torch.zeros(())"
      ],
      "metadata": {
        "id": "u52EKHIhdTpC"
      },
      "execution_count": 4,
      "outputs": []
    },
    {
      "cell_type": "code",
      "source": [
        "t_p = model(t_u, w, b)\n",
        "\n",
        "loss = loss_fn(t_p, t_c)\n",
        "loss"
      ],
      "metadata": {
        "colab": {
          "base_uri": "https://localhost:8080/"
        },
        "id": "Pc9x9iEAdWqy",
        "outputId": "8ce2b723-58fc-4374-aba1-ea0f6e608e79"
      },
      "execution_count": 5,
      "outputs": [
        {
          "output_type": "execute_result",
          "data": {
            "text/plain": [
              "tensor(1763.8848)"
            ]
          },
          "metadata": {},
          "execution_count": 5
        }
      ]
    },
    {
      "cell_type": "code",
      "source": [
        "x = torch.ones(())\n",
        "y = torch.ones(3, 1)\n",
        "z = torch.ones(1, 3)\n",
        "a = torch.ones(2, 1, 1)\n",
        "\n",
        "print(x.shape)\n",
        "print(y.shape)\n",
        "print(z.shape)\n",
        "print(a.shape)\n",
        "\n",
        "print(x)\n",
        "print(y)\n",
        "print(z)\n",
        "print(a)"
      ],
      "metadata": {
        "colab": {
          "base_uri": "https://localhost:8080/"
        },
        "id": "cGjuud15dfky",
        "outputId": "296bfb0f-7d6a-4c21-8cb0-6c18773b5438"
      },
      "execution_count": 6,
      "outputs": [
        {
          "output_type": "stream",
          "name": "stdout",
          "text": [
            "torch.Size([])\n",
            "torch.Size([3, 1])\n",
            "torch.Size([1, 3])\n",
            "torch.Size([2, 1, 1])\n",
            "tensor(1.)\n",
            "tensor([[1.],\n",
            "        [1.],\n",
            "        [1.]])\n",
            "tensor([[1., 1., 1.]])\n",
            "tensor([[[1.]],\n",
            "\n",
            "        [[1.]]])\n"
          ]
        }
      ]
    },
    {
      "cell_type": "code",
      "source": [
        "print(\"x * y\", (x * y).shape)\n",
        "print(\"y * z\", (y * z).shape)\n",
        "print(\"y * z * a\", (y * z * a).shape)"
      ],
      "metadata": {
        "colab": {
          "base_uri": "https://localhost:8080/"
        },
        "id": "x_hdbDYwd4xy",
        "outputId": "b493f018-85c3-40f7-931e-5fe2e33aff4f"
      },
      "execution_count": 7,
      "outputs": [
        {
          "output_type": "stream",
          "name": "stdout",
          "text": [
            "x * y torch.Size([3, 1])\n",
            "y * z torch.Size([3, 3])\n",
            "y * z * a torch.Size([2, 3, 3])\n"
          ]
        }
      ]
    },
    {
      "cell_type": "code",
      "source": [
        "print(\"x * y\", (x * y))\n",
        "print(\"y * z\", (y * z))\n",
        "print(\"y * z * a\", (y * z * a))"
      ],
      "metadata": {
        "colab": {
          "base_uri": "https://localhost:8080/"
        },
        "id": "ohpLQjzXd5Lx",
        "outputId": "904c0b53-773c-4669-aca4-58927d805135"
      },
      "execution_count": 8,
      "outputs": [
        {
          "output_type": "stream",
          "name": "stdout",
          "text": [
            "x * y tensor([[1.],\n",
            "        [1.],\n",
            "        [1.]])\n",
            "y * z tensor([[1., 1., 1.],\n",
            "        [1., 1., 1.],\n",
            "        [1., 1., 1.]])\n",
            "y * z * a tensor([[[1., 1., 1.],\n",
            "         [1., 1., 1.],\n",
            "         [1., 1., 1.]],\n",
            "\n",
            "        [[1., 1., 1.],\n",
            "         [1., 1., 1.],\n",
            "         [1., 1., 1.]]])\n"
          ]
        }
      ]
    },
    {
      "cell_type": "markdown",
      "source": [
        "Gradient"
      ],
      "metadata": {
        "id": "bc7QWx3PfP0_"
      }
    },
    {
      "cell_type": "code",
      "source": [
        "def training_loop(n_epochs, learning_rate, params, t_u, t_c):\n",
        "  for epoch in range(1, n_epochs + 1):\n",
        "    if params.grad is not None: # Before computing the gradient for the current epoch, it ensures that any previous gradients stored in params.grad are reset to zero.\n",
        "      params.grad.zero_() # Why? Gradients in PyTorch accumulate by default, so clearing them is necessary to avoid incorrect updates.\n",
        "\n",
        "    t_p = model(t_u, *params)\n",
        "    loss = loss_fn(t_p, t_c)\n",
        "\n",
        "    # Check for nan loss\n",
        "    if torch.isnan(loss):\n",
        "        print(f\"Loss is nan at epoch {epoch}. Breaking the loop.\")\n",
        "        break  # Stop training if loss becomes nan\n",
        "\n",
        "    loss.backward() # Computes gradients of the loss with respect to the model parameters using backpropagation.\n",
        "\n",
        "    with torch.no_grad():  # torch.no_grad(): Temporarily disables gradient tracking for performance and ensures no accidental modification of gradients during parameter updates.\n",
        "      params -= learning_rate * params.grad\n",
        "\n",
        "    if epoch % 500 == 0:\n",
        "      print('Epoch %d, Loss %f' % (epoch, float(loss)))\n",
        "\n",
        "  return params"
      ],
      "metadata": {
        "id": "GMP2DjhvDjoO"
      },
      "execution_count": 9,
      "outputs": []
    },
    {
      "cell_type": "code",
      "source": [
        "training_loop(5000, 1e-2, torch.tensor([1.0, 0.0], requires_grad=True), t_u, t_c)"
      ],
      "metadata": {
        "colab": {
          "base_uri": "https://localhost:8080/"
        },
        "id": "nTy9kBupFqjN",
        "outputId": "89b9e8af-c974-4d9f-d1d8-9186819714be"
      },
      "execution_count": 10,
      "outputs": [
        {
          "output_type": "stream",
          "name": "stdout",
          "text": [
            "Loss is nan at epoch 23. Breaking the loop.\n"
          ]
        },
        {
          "output_type": "execute_result",
          "data": {
            "text/plain": [
              "tensor([nan, inf], requires_grad=True)"
            ]
          },
          "metadata": {},
          "execution_count": 10
        }
      ]
    },
    {
      "cell_type": "code",
      "source": [
        "t_c = t_c / 10\n",
        "t_u = t_u / 10"
      ],
      "metadata": {
        "id": "MHAzOFH8GHut"
      },
      "execution_count": 11,
      "outputs": []
    },
    {
      "cell_type": "code",
      "source": [
        "training_loop( 5000, 1e-2, torch.tensor([1.0, 0.0], requires_grad=True), t_u, t_c)"
      ],
      "metadata": {
        "colab": {
          "base_uri": "https://localhost:8080/"
        },
        "id": "5Z30xLgeICSM",
        "outputId": "c984750f-b47b-45fb-81fd-0f93c5414625"
      },
      "execution_count": 12,
      "outputs": [
        {
          "output_type": "stream",
          "name": "stdout",
          "text": [
            "Epoch 500, Loss 0.070306\n",
            "Epoch 1000, Loss 0.036770\n",
            "Epoch 1500, Loss 0.030645\n",
            "Epoch 2000, Loss 0.029526\n",
            "Epoch 2500, Loss 0.029322\n",
            "Epoch 3000, Loss 0.029285\n",
            "Epoch 3500, Loss 0.029278\n",
            "Epoch 4000, Loss 0.029277\n",
            "Epoch 4500, Loss 0.029277\n",
            "Epoch 5000, Loss 0.029276\n"
          ]
        },
        {
          "output_type": "execute_result",
          "data": {
            "text/plain": [
              "tensor([ 0.5367, -1.7302], requires_grad=True)"
            ]
          },
          "metadata": {},
          "execution_count": 12
        }
      ]
    },
    {
      "cell_type": "code",
      "source": [
        "import torch.optim as optim\n",
        "\n",
        "dir(optim)"
      ],
      "metadata": {
        "colab": {
          "base_uri": "https://localhost:8080/"
        },
        "id": "faYuqoEBISZb",
        "outputId": "37e8806b-dd38-4848-a15e-da573404ef67"
      },
      "execution_count": 13,
      "outputs": [
        {
          "output_type": "execute_result",
          "data": {
            "text/plain": [
              "['ASGD',\n",
              " 'Adadelta',\n",
              " 'Adafactor',\n",
              " 'Adagrad',\n",
              " 'Adam',\n",
              " 'AdamW',\n",
              " 'Adamax',\n",
              " 'LBFGS',\n",
              " 'NAdam',\n",
              " 'Optimizer',\n",
              " 'RAdam',\n",
              " 'RMSprop',\n",
              " 'Rprop',\n",
              " 'SGD',\n",
              " 'SparseAdam',\n",
              " '__all__',\n",
              " '__builtins__',\n",
              " '__cached__',\n",
              " '__doc__',\n",
              " '__file__',\n",
              " '__loader__',\n",
              " '__name__',\n",
              " '__package__',\n",
              " '__path__',\n",
              " '__spec__',\n",
              " '_adafactor',\n",
              " '_functional',\n",
              " 'lr_scheduler',\n",
              " 'swa_utils']"
            ]
          },
          "metadata": {},
          "execution_count": 13
        }
      ]
    },
    {
      "cell_type": "code",
      "source": [
        "def training_loop_with_optim(n_epochs, optimzer, t_u, t_c):\n",
        "  for epoch in range(1, n_epochs + 1):\n",
        "    if params.grad is not None: # Before computing the gradient for the current epoch, it ensures that any previous gradients stored in params.grad are reset to zero.\n",
        "      params.grad.zero_() # Why? Gradients in PyTorch accumulate by default, so clearing them is necessary to avoid incorrect updates.\n",
        "\n",
        "    t_p = model(t_u, *params)\n",
        "    loss = loss_fn(t_p, t_c)\n",
        "\n",
        "    # Check for nan loss\n",
        "    if torch.isnan(loss):\n",
        "        print(f\"Loss is nan at epoch {epoch}. Breaking the loop.\")\n",
        "        break  # Stop training if loss becomes nan\n",
        "\n",
        "    optimzer.zero_grad()\n",
        "\n",
        "    loss.backward() # Computes gradients of the loss with respect to the model parameters using backpropagation.\n",
        "\n",
        "    optimzer.step()\n",
        "\n",
        "    if epoch % 500 == 0:\n",
        "      print('Epoch %d, Loss %f' % (epoch, float(loss)))\n",
        "\n",
        "  return params"
      ],
      "metadata": {
        "id": "zdXkhP5BKCy8"
      },
      "execution_count": 14,
      "outputs": []
    },
    {
      "cell_type": "code",
      "source": [
        "params = torch.tensor([1.0, 0.0], requires_grad=True)\n",
        "\n",
        "optimizer = optim.SGD([params], lr=1e-2)\n",
        "\n",
        "training_loop_with_optim(5000, optimizer, t_u, t_c)"
      ],
      "metadata": {
        "colab": {
          "base_uri": "https://localhost:8080/"
        },
        "id": "F7H_XQ63LnBX",
        "outputId": "ba1780b8-7e8d-4727-821f-10610fdd2d85"
      },
      "execution_count": 15,
      "outputs": [
        {
          "output_type": "stream",
          "name": "stdout",
          "text": [
            "Epoch 500, Loss 0.070306\n",
            "Epoch 1000, Loss 0.036770\n",
            "Epoch 1500, Loss 0.030645\n",
            "Epoch 2000, Loss 0.029526\n",
            "Epoch 2500, Loss 0.029322\n",
            "Epoch 3000, Loss 0.029285\n",
            "Epoch 3500, Loss 0.029278\n",
            "Epoch 4000, Loss 0.029277\n",
            "Epoch 4500, Loss 0.029277\n",
            "Epoch 5000, Loss 0.029276\n"
          ]
        },
        {
          "output_type": "execute_result",
          "data": {
            "text/plain": [
              "tensor([ 0.5367, -1.7302], requires_grad=True)"
            ]
          },
          "metadata": {},
          "execution_count": 15
        }
      ]
    },
    {
      "cell_type": "markdown",
      "source": [
        "### Validation dataset"
      ],
      "metadata": {
        "id": "jq9GHC3SOXmy"
      }
    },
    {
      "cell_type": "code",
      "source": [
        "n_samples = t_u.shape[0]\n",
        "n_val = int(0.2 * n_samples)\n",
        "\n",
        "shuffled_indices = torch.randperm(n_samples)"
      ],
      "metadata": {
        "id": "He_kknF3MGXK"
      },
      "execution_count": 16,
      "outputs": []
    },
    {
      "cell_type": "code",
      "source": [
        "shuffled_indices = torch.randperm(n_samples)\n",
        "train_indices = shuffled_indices[:-n_val]\n",
        "val_indices = shuffled_indices[-n_val:]"
      ],
      "metadata": {
        "id": "LNr3zlwVOay5"
      },
      "execution_count": 17,
      "outputs": []
    },
    {
      "cell_type": "code",
      "source": [
        "train_t_c = t_c[train_indices]\n",
        "train_t_u = t_u[train_indices]\n",
        "\n",
        "val_t_c = t_c[val_indices]\n",
        "val_t_u = t_u[val_indices]"
      ],
      "metadata": {
        "id": "ZDPHvJaoOmFY"
      },
      "execution_count": 18,
      "outputs": []
    },
    {
      "cell_type": "code",
      "source": [
        "def training_loop_with_validation(n_epochs, optimizer, params, train_t_u, train_t_c, val_t_u, val_t_c):\n",
        "  for epoch in range(1, n_epochs + 1):\n",
        "    train_t_p = model(train_t_u, *params)\n",
        "    train_loss = loss_fn(train_t_p, train_t_c)\n",
        "\n",
        "    val_t_p = model(val_t_u, *params)\n",
        "    val_loss = loss_fn(val_t_p, val_t_c)\n",
        "\n",
        "    optimizer.zero_grad()\n",
        "    train_loss.backward()\n",
        "    optimizer.step()\n",
        "\n",
        "    if epoch <= 3 or epoch % 500 == 0:\n",
        "      print(f\"Epoch {epoch}, Training Loss {train_loss.item():.4f}, Validation Loss {val_loss.item():.4f}\")\n",
        "\n",
        "  return params"
      ],
      "metadata": {
        "id": "wd2ARtV7Ouj5"
      },
      "execution_count": 19,
      "outputs": []
    },
    {
      "cell_type": "code",
      "source": [
        "params = torch.tensor([1.0, 0.0], requires_grad=True)\n",
        "learning_rate = 1e-2\n",
        "optimizer = optim.SGD([params], lr=learning_rate)\n",
        "\n",
        "training_loop_with_validation(3000, optimizer, params, train_t_u, train_t_c, val_t_u, val_t_c)"
      ],
      "metadata": {
        "colab": {
          "base_uri": "https://localhost:8080/"
        },
        "id": "byggMrIBPGU4",
        "outputId": "da414d3c-dce2-400c-bb75-28914b3adea2"
      },
      "execution_count": 20,
      "outputs": [
        {
          "output_type": "stream",
          "name": "stdout",
          "text": [
            "Epoch 1, Training Loss 17.5343, Validation Loss 18.1093\n",
            "Epoch 2, Training Loss 3.1704, Validation Loss 2.6860\n",
            "Epoch 3, Training Loss 0.7793, Validation Loss 0.3268\n",
            "Epoch 500, Training Loss 0.0662, Validation Loss 0.0236\n",
            "Epoch 1000, Training Loss 0.0362, Validation Loss 0.0225\n",
            "Epoch 1500, Training Loss 0.0324, Validation Loss 0.0222\n",
            "Epoch 2000, Training Loss 0.0319, Validation Loss 0.0221\n",
            "Epoch 2500, Training Loss 0.0319, Validation Loss 0.0220\n",
            "Epoch 3000, Training Loss 0.0319, Validation Loss 0.0220\n"
          ]
        },
        {
          "output_type": "execute_result",
          "data": {
            "text/plain": [
              "tensor([ 0.5308, -1.7263], requires_grad=True)"
            ]
          },
          "metadata": {},
          "execution_count": 20
        }
      ]
    },
    {
      "cell_type": "markdown",
      "source": [
        "### Autograd nits and switching it off"
      ],
      "metadata": {
        "id": "TVM76UaIQveV"
      }
    },
    {
      "cell_type": "code",
      "source": [
        "def training_loop_with_validation(n_epochs, optimizer, params, train_t_u, train_t_c, val_t_u, val_t_c):\n",
        "  for epoch in range(1, n_epochs + 1):\n",
        "    train_t_p = model(train_t_u, *params)\n",
        "    train_loss = loss_fn(train_t_p, train_t_c)\n",
        "\n",
        "    with torch.no_grad():  # The with torch.no_grad(): block is used in this context to temporarily disable gradient computation. Here's why it is important in this function\n",
        "      val_t_p = model(val_t_u, *params)\n",
        "      val_loss = loss_fn(val_t_p, val_t_c)\n",
        "      assert val_loss.requires_grad == False\n",
        "\n",
        "    optimizer.zero_grad()\n",
        "    train_loss.backward()\n",
        "    optimizer.step()\n",
        "\n",
        "    if epoch <= 3 or epoch % 500 == 0:\n",
        "      print(f\"Epoch {epoch}, Training Loss {train_loss.item():.4f}, Validation Loss {val_loss.item():.4f}\")\n",
        "\n",
        "  return params"
      ],
      "metadata": {
        "id": "G_ScMNdXPMp4"
      },
      "execution_count": 21,
      "outputs": []
    },
    {
      "cell_type": "code",
      "source": [
        "params = torch.tensor([1.0, 0.0], requires_grad=True)\n",
        "learning_rate = 1e-2\n",
        "optimizer = optim.SGD([params], lr=learning_rate)\n",
        "\n",
        "training_loop_with_validation(3000, optimizer, params, train_t_u, train_t_c, val_t_u, val_t_c)"
      ],
      "metadata": {
        "colab": {
          "base_uri": "https://localhost:8080/"
        },
        "id": "Jr2njft-Q9cn",
        "outputId": "e94db68e-63a5-4013-f166-d0be38459bb5"
      },
      "execution_count": 22,
      "outputs": [
        {
          "output_type": "stream",
          "name": "stdout",
          "text": [
            "Epoch 1, Training Loss 17.5343, Validation Loss 18.1093\n",
            "Epoch 2, Training Loss 3.1704, Validation Loss 2.6860\n",
            "Epoch 3, Training Loss 0.7793, Validation Loss 0.3268\n",
            "Epoch 500, Training Loss 0.0662, Validation Loss 0.0236\n",
            "Epoch 1000, Training Loss 0.0362, Validation Loss 0.0225\n",
            "Epoch 1500, Training Loss 0.0324, Validation Loss 0.0222\n",
            "Epoch 2000, Training Loss 0.0319, Validation Loss 0.0221\n",
            "Epoch 2500, Training Loss 0.0319, Validation Loss 0.0220\n",
            "Epoch 3000, Training Loss 0.0319, Validation Loss 0.0220\n"
          ]
        },
        {
          "output_type": "execute_result",
          "data": {
            "text/plain": [
              "tensor([ 0.5308, -1.7263], requires_grad=True)"
            ]
          },
          "metadata": {},
          "execution_count": 22
        }
      ]
    },
    {
      "cell_type": "code",
      "source": [],
      "metadata": {
        "id": "1TMB0oX-0_jV"
      },
      "execution_count": null,
      "outputs": []
    },
    {
      "cell_type": "markdown",
      "source": [
        "Torch.NN"
      ],
      "metadata": {
        "id": "S1t2kn3-0__n"
      }
    },
    {
      "cell_type": "code",
      "source": [
        "import torch"
      ],
      "metadata": {
        "id": "nK8j7wpAEwEC"
      },
      "execution_count": 54,
      "outputs": []
    },
    {
      "cell_type": "code",
      "source": [
        "t_c = [0.5, 14.0, 15.0, 28.0, 11.0, 8.0, 3.0, -4.0, 6.0, 13.0, 21.0]\n",
        "t_u = [35.7, 55.9, 58.2, 81.9, 56.3, 48.9, 33.9, 21.8, 48.4, 60.4, 68.4]\n",
        "\n",
        "\n",
        "t_c = torch.tensor(t_c).unsqueeze(1)\n",
        "t_u = torch.tensor(t_u).unsqueeze(1)\n",
        "\n",
        "t_c = t_c / 10\n",
        "t_u = t_u / 10"
      ],
      "metadata": {
        "id": "owC_yNC5Q_J3"
      },
      "execution_count": 55,
      "outputs": []
    },
    {
      "cell_type": "code",
      "source": [
        "t_c"
      ],
      "metadata": {
        "colab": {
          "base_uri": "https://localhost:8080/"
        },
        "id": "2-bb-9Th03t2",
        "outputId": "68fdd9e7-1ba3-49fa-8450-d39309aac76a"
      },
      "execution_count": 56,
      "outputs": [
        {
          "output_type": "execute_result",
          "data": {
            "text/plain": [
              "tensor([[ 0.0500],\n",
              "        [ 1.4000],\n",
              "        [ 1.5000],\n",
              "        [ 2.8000],\n",
              "        [ 1.1000],\n",
              "        [ 0.8000],\n",
              "        [ 0.3000],\n",
              "        [-0.4000],\n",
              "        [ 0.6000],\n",
              "        [ 1.3000],\n",
              "        [ 2.1000]])"
            ]
          },
          "metadata": {},
          "execution_count": 56
        }
      ]
    },
    {
      "cell_type": "code",
      "source": [
        "n_samples = t_u.shape[0]\n",
        "n_val = int(0.2 * n_samples)\n",
        "\n",
        "shuffled_indices = torch.randperm(n_samples)\n",
        "\n",
        "shuffled_indices = torch.randperm(n_samples)\n",
        "train_indices = shuffled_indices[:-n_val]\n",
        "val_indices = shuffled_indices[-n_val:]\n",
        "\n",
        "train_t_c = t_c[train_indices]\n",
        "train_t_u = t_u[train_indices]\n",
        "\n",
        "val_t_c = t_c[val_indices]\n",
        "val_t_u = t_u[val_indices]"
      ],
      "metadata": {
        "id": "nwUbQjPs2ESA"
      },
      "execution_count": 57,
      "outputs": []
    },
    {
      "cell_type": "code",
      "source": [
        "val_t_c"
      ],
      "metadata": {
        "colab": {
          "base_uri": "https://localhost:8080/"
        },
        "id": "X9SxeqZ52K4y",
        "outputId": "14091c89-b45b-4285-975b-1365618eca79"
      },
      "execution_count": 58,
      "outputs": [
        {
          "output_type": "execute_result",
          "data": {
            "text/plain": [
              "tensor([[1.4000],\n",
              "        [1.3000]])"
            ]
          },
          "metadata": {},
          "execution_count": 58
        }
      ]
    },
    {
      "cell_type": "code",
      "source": [
        "import torch.nn as nn\n",
        "import torch.optim as optim\n",
        "\n",
        "linear_model = nn.Linear(1, 1)\n",
        "\n",
        "optimizer = optim.SGD(linear_model.parameters(), lr=1e-2) # this method call replaces [params]\n"
      ],
      "metadata": {
        "id": "Ahch5r-s04qF"
      },
      "execution_count": 59,
      "outputs": []
    },
    {
      "cell_type": "code",
      "source": [
        "linear_model.parameters()"
      ],
      "metadata": {
        "colab": {
          "base_uri": "https://localhost:8080/"
        },
        "id": "hj3fvZXj1Q7F",
        "outputId": "4c259caf-6349-48cd-b061-74d427e330a9"
      },
      "execution_count": 60,
      "outputs": [
        {
          "output_type": "execute_result",
          "data": {
            "text/plain": [
              "<generator object Module.parameters at 0x7c77c116d9a0>"
            ]
          },
          "metadata": {},
          "execution_count": 60
        }
      ]
    },
    {
      "cell_type": "code",
      "source": [
        "list(linear_model.parameters())"
      ],
      "metadata": {
        "colab": {
          "base_uri": "https://localhost:8080/"
        },
        "id": "zZo5bpZ91Z11",
        "outputId": "0dc9bc6e-96ce-4fb7-cda4-7a6d856161d9"
      },
      "execution_count": 61,
      "outputs": [
        {
          "output_type": "execute_result",
          "data": {
            "text/plain": [
              "[Parameter containing:\n",
              " tensor([[0.9991]], requires_grad=True),\n",
              " Parameter containing:\n",
              " tensor([-0.3387], requires_grad=True)]"
            ]
          },
          "metadata": {},
          "execution_count": 61
        }
      ]
    },
    {
      "cell_type": "code",
      "source": [
        "def training_loop(n_epochs, optimizer, model, loss_fn, t_u_train, t_u_val, t_c_train, t_c_val):\n",
        "  for epoch in range(1, n_epochs + 1):\n",
        "    t_p_train = model(t_u_train)\n",
        "    loss_train = loss_fn(t_p_train, t_c_train)\n",
        "\n",
        "    t_p_val = model(t_u_val)\n",
        "    loss_val = loss_fn(t_p_val, t_c_val)\n",
        "\n",
        "    optimizer.zero_grad()\n",
        "    loss_train.backward()\n",
        "    optimizer.step()\n",
        "\n",
        "    if epoch == 1 or epoch % 1000 == 0:\n",
        "      print(f\"Epoch {epoch}, Training loss {loss_train.item():.4f},\"\n",
        "            f\" Validation loss {loss_val.item():.4f}\")"
      ],
      "metadata": {
        "id": "LvpD4CJp1ce1"
      },
      "execution_count": 62,
      "outputs": []
    },
    {
      "cell_type": "code",
      "source": [
        "linear_model = nn.Linear(1, 1)\n",
        "\n",
        "optimizer = optim.SGD(linear_model.parameters(), lr=1e-2)\n",
        "\n",
        "training_loop(10000, optimizer, linear_model, nn.MSELoss(), train_t_u, val_t_u, train_t_c, val_t_c)"
      ],
      "metadata": {
        "colab": {
          "base_uri": "https://localhost:8080/"
        },
        "id": "vABG3uVd1zdF",
        "outputId": "904cbd90-da36-4f60-d95b-4d124b51bdb7"
      },
      "execution_count": 63,
      "outputs": [
        {
          "output_type": "stream",
          "name": "stdout",
          "text": [
            "Epoch 1, Training loss 21.0110, Validation loss 24.6163\n",
            "Epoch 1000, Training loss 0.0310, Validation loss 0.0300\n",
            "Epoch 2000, Training loss 0.0288, Validation loss 0.0321\n",
            "Epoch 3000, Training loss 0.0288, Validation loss 0.0324\n",
            "Epoch 4000, Training loss 0.0288, Validation loss 0.0325\n",
            "Epoch 5000, Training loss 0.0288, Validation loss 0.0325\n",
            "Epoch 6000, Training loss 0.0288, Validation loss 0.0325\n",
            "Epoch 7000, Training loss 0.0288, Validation loss 0.0325\n",
            "Epoch 8000, Training loss 0.0288, Validation loss 0.0325\n",
            "Epoch 9000, Training loss 0.0288, Validation loss 0.0325\n",
            "Epoch 10000, Training loss 0.0288, Validation loss 0.0325\n"
          ]
        }
      ]
    },
    {
      "cell_type": "code",
      "source": [
        "linear_model.weight"
      ],
      "metadata": {
        "colab": {
          "base_uri": "https://localhost:8080/"
        },
        "id": "UMJQhtUr1-CF",
        "outputId": "ecdf0036-d773-4992-bd2b-a39f375714ff"
      },
      "execution_count": 64,
      "outputs": [
        {
          "output_type": "execute_result",
          "data": {
            "text/plain": [
              "Parameter containing:\n",
              "tensor([[0.5419]], requires_grad=True)"
            ]
          },
          "metadata": {},
          "execution_count": 64
        }
      ]
    },
    {
      "cell_type": "code",
      "source": [
        "linear_model.bias"
      ],
      "metadata": {
        "colab": {
          "base_uri": "https://localhost:8080/"
        },
        "id": "CgEBAnYZ2umU",
        "outputId": "059f058c-5e3a-44a0-ef3e-510633b2890e"
      },
      "execution_count": 65,
      "outputs": [
        {
          "output_type": "execute_result",
          "data": {
            "text/plain": [
              "Parameter containing:\n",
              "tensor([-1.7473], requires_grad=True)"
            ]
          },
          "metadata": {},
          "execution_count": 65
        }
      ]
    },
    {
      "cell_type": "code",
      "source": [
        "seq_model = nn.Sequential(\n",
        "    nn.Linear(1, 13),\n",
        "    nn.Tanh(),\n",
        "    nn.Linear(13, 1)\n",
        ")"
      ],
      "metadata": {
        "id": "eRi0z5z-2wz0"
      },
      "execution_count": 66,
      "outputs": []
    },
    {
      "cell_type": "code",
      "source": [
        "seq_model"
      ],
      "metadata": {
        "colab": {
          "base_uri": "https://localhost:8080/"
        },
        "id": "oJ8m7sUWEz2k",
        "outputId": "a9d01b76-184c-4f26-b153-6551dfd66013"
      },
      "execution_count": 67,
      "outputs": [
        {
          "output_type": "execute_result",
          "data": {
            "text/plain": [
              "Sequential(\n",
              "  (0): Linear(in_features=1, out_features=13, bias=True)\n",
              "  (1): Tanh()\n",
              "  (2): Linear(in_features=13, out_features=1, bias=True)\n",
              ")"
            ]
          },
          "metadata": {},
          "execution_count": 67
        }
      ]
    },
    {
      "cell_type": "code",
      "source": [
        "for name, param in seq_model.named_parameters():\n",
        "  print(name, param.shape)"
      ],
      "metadata": {
        "colab": {
          "base_uri": "https://localhost:8080/"
        },
        "id": "42DVk00oE4zt",
        "outputId": "f60cf1bb-ef6c-4d14-aa0f-8a099a83bb73"
      },
      "execution_count": 68,
      "outputs": [
        {
          "output_type": "stream",
          "name": "stdout",
          "text": [
            "0.weight torch.Size([13, 1])\n",
            "0.bias torch.Size([13])\n",
            "2.weight torch.Size([1, 13])\n",
            "2.bias torch.Size([1])\n"
          ]
        }
      ]
    },
    {
      "cell_type": "code",
      "source": [
        "from collections import OrderedDict\n",
        "\n",
        "seq_model = nn.Sequential(OrderedDict([\n",
        "    ('hidden_linear', nn.Linear(1, 8)),\n",
        "    ('hidden_activation', nn.Tanh()),\n",
        "    ('output_linear', nn.Linear(8, 1))\n",
        "]))"
      ],
      "metadata": {
        "id": "1SRX86E-FQ99"
      },
      "execution_count": 69,
      "outputs": []
    },
    {
      "cell_type": "code",
      "source": [
        "seq_model"
      ],
      "metadata": {
        "colab": {
          "base_uri": "https://localhost:8080/"
        },
        "id": "3FxUiP_BFsLt",
        "outputId": "dae62e60-b2f9-4cd8-979a-7b08bf8d7d2a"
      },
      "execution_count": 70,
      "outputs": [
        {
          "output_type": "execute_result",
          "data": {
            "text/plain": [
              "Sequential(\n",
              "  (hidden_linear): Linear(in_features=1, out_features=8, bias=True)\n",
              "  (hidden_activation): Tanh()\n",
              "  (output_linear): Linear(in_features=8, out_features=1, bias=True)\n",
              ")"
            ]
          },
          "metadata": {},
          "execution_count": 70
        }
      ]
    },
    {
      "cell_type": "code",
      "source": [
        "for name, param in seq_model.named_parameters():\n",
        "  print(name, param.shape)"
      ],
      "metadata": {
        "colab": {
          "base_uri": "https://localhost:8080/"
        },
        "id": "86_P-bZ9FtNM",
        "outputId": "5d14e1b1-cfed-45c4-b6d5-9f3ffb6de7fc"
      },
      "execution_count": 71,
      "outputs": [
        {
          "output_type": "stream",
          "name": "stdout",
          "text": [
            "hidden_linear.weight torch.Size([8, 1])\n",
            "hidden_linear.bias torch.Size([8])\n",
            "output_linear.weight torch.Size([1, 8])\n",
            "output_linear.bias torch.Size([1])\n"
          ]
        }
      ]
    },
    {
      "cell_type": "code",
      "source": [
        "seq_model.output_linear.bias"
      ],
      "metadata": {
        "colab": {
          "base_uri": "https://localhost:8080/"
        },
        "id": "gnyAJsNFFwS9",
        "outputId": "cff15391-ab0a-41a5-c0e0-30bfce55842c"
      },
      "execution_count": 72,
      "outputs": [
        {
          "output_type": "execute_result",
          "data": {
            "text/plain": [
              "Parameter containing:\n",
              "tensor([-0.2241], requires_grad=True)"
            ]
          },
          "metadata": {},
          "execution_count": 72
        }
      ]
    },
    {
      "cell_type": "code",
      "source": [
        "optimizer = optim.SGD(seq_model.parameters(), lr=1e-3)\n",
        "\n",
        "training_loop(10000, optimizer, seq_model, nn.MSELoss(), train_t_u, val_t_u, train_t_c, val_t_c)"
      ],
      "metadata": {
        "colab": {
          "base_uri": "https://localhost:8080/"
        },
        "id": "uc78SrC6Gbrz",
        "outputId": "de83d251-9958-4a2f-fe99-c5b7b13feea3"
      },
      "execution_count": 77,
      "outputs": [
        {
          "output_type": "stream",
          "name": "stdout",
          "text": [
            "Epoch 1, Training loss 2.1554, Validation loss 2.1650\n",
            "Epoch 1000, Training loss 0.7886, Validation loss 0.0914\n",
            "Epoch 2000, Training loss 0.6889, Validation loss 0.0711\n",
            "Epoch 3000, Training loss 0.4225, Validation loss 0.0321\n",
            "Epoch 4000, Training loss 0.1991, Validation loss 0.0159\n",
            "Epoch 5000, Training loss 0.1009, Validation loss 0.0207\n",
            "Epoch 6000, Training loss 0.0630, Validation loss 0.0285\n",
            "Epoch 7000, Training loss 0.0473, Validation loss 0.0328\n",
            "Epoch 8000, Training loss 0.0392, Validation loss 0.0345\n",
            "Epoch 9000, Training loss 0.0343, Validation loss 0.0352\n",
            "Epoch 10000, Training loss 0.0309, Validation loss 0.0354\n"
          ]
        }
      ]
    },
    {
      "cell_type": "code",
      "source": [
        "print('output', seq_model(val_t_u))\n",
        "print('answer', val_t_c)\n",
        "print('hidden', seq_model.hidden_linear.weight.grad)"
      ],
      "metadata": {
        "colab": {
          "base_uri": "https://localhost:8080/"
        },
        "id": "jMNQ80vpGvHt",
        "outputId": "e661fbe0-70e6-475e-d088-ca63ebb4dcf4"
      },
      "execution_count": 79,
      "outputs": [
        {
          "output_type": "stream",
          "name": "stdout",
          "text": [
            "output tensor([[1.2931],\n",
            "        [1.5437]], grad_fn=<AddmmBackward0>)\n",
            "answer tensor([[1.4000],\n",
            "        [1.3000]])\n",
            "hidden tensor([[-0.0013],\n",
            "        [ 0.0008],\n",
            "        [-0.0032],\n",
            "        [-0.0016],\n",
            "        [-0.0014],\n",
            "        [ 0.0002],\n",
            "        [ 0.0028],\n",
            "        [ 0.0002]])\n"
          ]
        }
      ]
    },
    {
      "cell_type": "code",
      "source": [
        "from matplotlib import pyplot as plt\n",
        "\n",
        "t_range = torch.arange(20., 60.).unsqueeze(1)\n",
        "\n",
        "fig = plt.figure(dpi=80)\n",
        "plt.xlabel(\"Fahrenheit\")\n",
        "plt.ylabel(\"Celsius\")\n",
        "plt.plot(t_u.numpy(), t_c.numpy(), 'o')\n",
        "\n",
        "# plt.plot(t_range.numpy(), seq_model(0.1 * t_range).detach().numpy(), 'c-')\n",
        "plt.plot(t_u.numpy(), seq_model(t_u).detach().numpy(), 'kx')"
      ],
      "metadata": {
        "colab": {
          "base_uri": "https://localhost:8080/",
          "height": 377
        },
        "id": "SLLUOK7-F7Yt",
        "outputId": "b1324879-1d24-487a-f532-ec5cafe78fae"
      },
      "execution_count": 84,
      "outputs": [
        {
          "output_type": "execute_result",
          "data": {
            "text/plain": [
              "[<matplotlib.lines.Line2D at 0x7c77c0206dd0>]"
            ]
          },
          "metadata": {},
          "execution_count": 84
        },
        {
          "output_type": "display_data",
          "data": {
            "text/plain": [
              "<Figure size 512x384 with 1 Axes>"
            ],
            "image/png": "[encoded data removed]"
          },
          "metadata": {}
        }
      ]
    },
    {
      "cell_type": "code",
      "source": [],
      "metadata": {
        "id": "rTTUY6NPGQRt"
      },
      "execution_count": null,
      "outputs": []
    }
  ]
}